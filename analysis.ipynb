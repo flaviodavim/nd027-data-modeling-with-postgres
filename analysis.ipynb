{
 "cells": [
  {
   "cell_type": "markdown",
   "metadata": {
    "editable": true
   },
   "source": [
    "#### Import the library \n",
    "Note: An error might popup after this command has exectuted. If it does read it careful before ignoring. "
   ]
  },
  {
   "cell_type": "code",
   "execution_count": 1,
   "metadata": {
    "editable": true
   },
   "outputs": [],
   "source": [
    "import psycopg2"
   ]
  },
  {
   "cell_type": "markdown",
   "metadata": {
    "editable": true
   },
   "source": [
    "### Create a connection to the database"
   ]
  },
  {
   "cell_type": "code",
   "execution_count": 2,
   "metadata": {
    "editable": true
   },
   "outputs": [],
   "source": [
    "try: \n",
    "    conn = psycopg2.connect(\"host=127.0.0.1 dbname=sparkifydb user=student password=student\")\n",
    "except psycopg2.Error as e: \n",
    "    print(\"Error: Could not make connection to the Postgres database\")\n",
    "    print(e)"
   ]
  },
  {
   "cell_type": "markdown",
   "metadata": {
    "editable": true
   },
   "source": [
    "### Next use that connect to get a cursor that we will use to execute queries."
   ]
  },
  {
   "cell_type": "code",
   "execution_count": 3,
   "metadata": {
    "editable": true
   },
   "outputs": [],
   "source": [
    "try: \n",
    "    cur = conn.cursor()\n",
    "except psycopg2.Error as e: \n",
    "    print(\"Error: Could not get cursor to the Database\")\n",
    "    print(e)"
   ]
  },
  {
   "cell_type": "markdown",
   "metadata": {
    "editable": true
   },
   "source": [
    "### Then we create a function to execute select queries and exibing the result. We'll catch the error if exists."
   ]
  },
  {
   "cell_type": "code",
   "execution_count": 4,
   "metadata": {
    "editable": true
   },
   "outputs": [],
   "source": [
    "def execute_select(cur, query):\n",
    "    try: \n",
    "        cur.execute(query)\n",
    "        \n",
    "    except psycopg2.Error as e: \n",
    "        print(\"Error: select *\")\n",
    "        print (e)\n",
    "\n",
    "    row = cur.fetchone()\n",
    "    while row:\n",
    "       print(row)\n",
    "       row = cur.fetchone()"
   ]
  },
  {
   "cell_type": "markdown",
   "metadata": {
    "editable": true
   },
   "source": [
    "### Here we have the representation of our Star Schema with one fact table and four dimension tables coming from it.\n",
    "\n",
    "`Table Name: songplays\n",
    "column: songplay_id\n",
    "column: start_time\n",
    "column: user_id\n",
    "column: level\n",
    "column: song_id\n",
    "column: artist_id\n",
    "column: session_id\n",
    "column: location\n",
    "column: user_agent`\n",
    "\n",
    "`Table Name: users\n",
    "column: user_id\n",
    "column: first_name\n",
    "column: last_name\n",
    "column: gender\n",
    "column: level`\n",
    "\n",
    "`Table Name: songs\n",
    "column: song_id\n",
    "column: title\n",
    "column: artist_id\n",
    "column: year\n",
    "column: duration`\n",
    "\n",
    "`Table Name: artists\n",
    "column: artist_id\n",
    "column: name\n",
    "column: location\n",
    "column: latitude\n",
    "column: longitude`\n",
    "\n",
    "`Table Name: time\n",
    "column: start_time\n",
    "column: hour\n",
    "column: day\n",
    "column: week\n",
    "column: month\n",
    "column: year\n",
    "column: weekday`\n",
    "\n",
    "<img src=\"images/StarSchema.png\" width=\"750\">"
   ]
  },
  {
   "cell_type": "markdown",
   "metadata": {
    "editable": true
   },
   "source": [
    "## Now we will run some queries on this database to analyze the Sparkify.\n",
    "\n",
    "#### The first information we want about the Sparkify is understand the main artists and songs."
   ]
  },
  {
   "cell_type": "markdown",
   "metadata": {
    "editable": true
   },
   "source": [
    "#### Top 10 artists\n",
    "The problem here is the fact of only one row has a song_id associated."
   ]
  },
  {
   "cell_type": "code",
   "execution_count": 5,
   "metadata": {
    "editable": true
   },
   "outputs": [
    {
     "name": "stdout",
     "output_type": "stream",
     "text": [
      "(3225, 'SOZCTXZ12AB0182364', 'Setanta matins')\n"
     ]
    }
   ],
   "source": [
    "execute_select(cur, 'SELECT songplays.songplay_id, songplays.song_id, songs.title FROM songplays INNER JOIN songs ON songplays.song_id = songs.song_id')"
   ]
  },
  {
   "cell_type": "markdown",
   "metadata": {
    "editable": true
   },
   "source": [
    "### Top 10 songs\n",
    "The problem here is the same that we find with artists"
   ]
  },
  {
   "cell_type": "code",
   "execution_count": 6,
   "metadata": {
    "editable": true
   },
   "outputs": [
    {
     "name": "stdout",
     "output_type": "stream",
     "text": [
      "(3225, 'AR5KOSW1187FB35FF4', 'Elena')\n"
     ]
    }
   ],
   "source": [
    "execute_select(cur, 'SELECT songplays.songplay_id, songplays.artist_id, artists.name FROM songplays INNER JOIN artists ON songplays.artist_id = artists.artist_id')"
   ]
  },
  {
   "cell_type": "markdown",
   "metadata": {
    "editable": true
   },
   "source": [
    "### As this two columns won't give us so many information, we can focus on others importants things\n",
    "\n",
    "## Top 10 locations where the Sparkify is used"
   ]
  },
  {
   "cell_type": "code",
   "execution_count": 9,
   "metadata": {
    "editable": true
   },
   "outputs": [
    {
     "name": "stdout",
     "output_type": "stream",
     "text": [
      "(691, 'San Francisco-Oakland-Hayward, CA')\n",
      "(665, 'Portland-South Portland, ME')\n",
      "(557, 'Lansing-East Lansing, MI')\n",
      "(475, 'Chicago-Naperville-Elgin, IL-IN-WI')\n",
      "(456, 'Atlanta-Sandy Springs-Roswell, GA')\n",
      "(397, 'Waterloo-Cedar Falls, IA')\n",
      "(321, 'Lake Havasu City-Kingman, AZ')\n",
      "(307, 'Tampa-St. Petersburg-Clearwater, FL')\n",
      "(292, 'San Jose-Sunnyvale-Santa Clara, CA')\n",
      "(270, 'Sacramento--Roseville--Arden-Arcade, CA')\n"
     ]
    }
   ],
   "source": [
    "execute_select(cur, 'SELECT COUNT(songplay_id), location FROM songplays GROUP BY location ORDER BY COUNT(songplay_id) DESC LIMIT 10')"
   ]
  },
  {
   "cell_type": "markdown",
   "metadata": {
    "editable": true
   },
   "source": [
    "### We can see how is the Sparkify's users by gender. It's possible to see a little more women using the program."
   ]
  },
  {
   "cell_type": "code",
   "execution_count": 13,
   "metadata": {
    "editable": true
   },
   "outputs": [
    {
     "name": "stdout",
     "output_type": "stream",
     "text": [
      "(41, 'M')\n",
      "(55, 'F')\n"
     ]
    }
   ],
   "source": [
    "execute_select(cur,'SELECT COUNT(user_id), gender FROM users GROUP BY gender')"
   ]
  },
  {
   "cell_type": "markdown",
   "metadata": {
    "editable": true
   },
   "source": [
    "### But even with a similar number of users, women use much more than men"
   ]
  },
  {
   "cell_type": "code",
   "execution_count": 10,
   "metadata": {
    "editable": true
   },
   "outputs": [
    {
     "name": "stdout",
     "output_type": "stream",
     "text": [
      "(1933, 'M')\n",
      "(4887, 'F')\n"
     ]
    }
   ],
   "source": [
    "execute_select(cur, 'SELECT COUNT(songplays.songplay_id), users.gender FROM songplays INNER JOIN users ON songplays.user_id = users.user_id GROUP BY users.gender')"
   ]
  },
  {
   "cell_type": "markdown",
   "metadata": {
    "editable": true
   },
   "source": [
    "### The Top 10 users confirm that women use more Sparkify than man when we see seven women in top 10"
   ]
  },
  {
   "cell_type": "code",
   "execution_count": 15,
   "metadata": {
    "editable": true
   },
   "outputs": [
    {
     "name": "stdout",
     "output_type": "stream",
     "text": [
      "(689, 'Cuevas', 'Chloe', 'F')\n",
      "(665, 'Levine', 'Tegan', 'F')\n",
      "(557, 'Harrell', 'Kate', 'F')\n",
      "(463, 'Koch', 'Lily', 'F')\n",
      "(397, 'Kirby', 'Aleena', 'F')\n",
      "(346, 'Lynch', 'Jacqueline', 'F')\n",
      "(321, 'Griffin', 'Layla', 'F')\n",
      "(289, 'Klein', 'Jacob', 'M')\n",
      "(270, 'Rodriguez', 'Mohammad', 'M')\n",
      "(248, 'Jones', 'Matthew', 'M')\n"
     ]
    }
   ],
   "source": [
    "execute_select(cur, '''\n",
    "SELECT COUNT(songplays.songplay_id), users.last_name, users.first_name, users.gender\n",
    "FROM songplays INNER JOIN users ON songplays.user_id = users.user_id \n",
    "GROUP BY users.last_name, users.first_name, users.gender\n",
    "ORDER BY COUNT(songplays.songplay_id) DESC, users.last_name, users.first_name \n",
    "LIMIT 10\n",
    "''')"
   ]
  },
  {
   "cell_type": "markdown",
   "metadata": {
    "editable": true
   },
   "source": [
    "### Other important information is the number of paid and free user using the Sparkify. We can see much more free users"
   ]
  },
  {
   "cell_type": "code",
   "execution_count": 11,
   "metadata": {
    "editable": true
   },
   "outputs": [
    {
     "name": "stdout",
     "output_type": "stream",
     "text": [
      "(74, 'free')\n",
      "(22, 'paid')\n"
     ]
    }
   ],
   "source": [
    "execute_select(cur,'SELECT COUNT(user_id), level FROM users GROUP BY level')"
   ]
  },
  {
   "cell_type": "markdown",
   "metadata": {
    "editable": true
   },
   "source": [
    "### But the paid user are responsable for the most part of the song plays in Sparkify"
   ]
  },
  {
   "cell_type": "code",
   "execution_count": 16,
   "metadata": {
    "editable": true
   },
   "outputs": [
    {
     "name": "stdout",
     "output_type": "stream",
     "text": [
      "(1115, 'free')\n",
      "(5705, 'paid')\n"
     ]
    }
   ],
   "source": [
    "execute_select(cur,'SELECT COUNT(songplays.songplay_id), users.level FROM songplays INNER JOIN users ON songplays.user_id = users.user_id GROUP BY users.level')"
   ]
  },
  {
   "cell_type": "markdown",
   "metadata": {
    "editable": true
   },
   "source": [
    "### This information is confirmed for Top 10 users because the users who most use the Sparkify are all paid accounts"
   ]
  },
  {
   "cell_type": "code",
   "execution_count": 17,
   "metadata": {
    "editable": true
   },
   "outputs": [
    {
     "name": "stdout",
     "output_type": "stream",
     "text": [
      "(689, 'Cuevas', 'Chloe', 'paid')\n",
      "(665, 'Levine', 'Tegan', 'paid')\n",
      "(557, 'Harrell', 'Kate', 'paid')\n",
      "(463, 'Koch', 'Lily', 'paid')\n",
      "(397, 'Kirby', 'Aleena', 'paid')\n",
      "(346, 'Lynch', 'Jacqueline', 'paid')\n",
      "(321, 'Griffin', 'Layla', 'paid')\n",
      "(289, 'Klein', 'Jacob', 'paid')\n",
      "(270, 'Rodriguez', 'Mohammad', 'paid')\n",
      "(248, 'Jones', 'Matthew', 'paid')\n"
     ]
    }
   ],
   "source": [
    "execute_select(cur, '''\n",
    "SELECT COUNT(songplays.songplay_id), users.last_name, users.first_name, users.level\n",
    "FROM songplays INNER JOIN users ON songplays.user_id = users.user_id \n",
    "GROUP BY users.last_name, users.first_name, users.level\n",
    "ORDER BY COUNT(songplays.songplay_id) DESC, users.last_name, users.first_name \n",
    "LIMIT 10\n",
    "''')"
   ]
  },
  {
   "cell_type": "code",
   "execution_count": 6,
   "metadata": {
    "editable": true
   },
   "outputs": [
    {
     "name": "stdout",
     "output_type": "stream",
     "text": [
      "(6820, 2018)\n"
     ]
    }
   ],
   "source": [
    "execute_select(cur,'SELECT COUNT(songplays.songplay_id), time.year, time month FROM songplays INNER JOIN time ON songplays.start_time = time.start_time GROUP BY year ORDER BY year')"
   ]
  },
  {
   "cell_type": "markdown",
   "metadata": {
    "editable": true
   },
   "source": [
    "### So, from this database we could take some conclusions and understand better how the Sparkify is used. "
   ]
  }
 ],
 "metadata": {
  "kernelspec": {
   "display_name": "Python 3",
   "language": "python",
   "name": "python3"
  },
  "language_info": {
   "codemirror_mode": {
    "name": "ipython",
    "version": 3
   },
   "file_extension": ".py",
   "mimetype": "text/x-python",
   "name": "python",
   "nbconvert_exporter": "python",
   "pygments_lexer": "ipython3",
   "version": "3.6.3"
  }
 },
 "nbformat": 4,
 "nbformat_minor": 4
}
